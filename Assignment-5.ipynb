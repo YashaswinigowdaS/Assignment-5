{
 "cells": [
  {
   "cell_type": "markdown",
   "id": "eaffb6c2",
   "metadata": {},
   "source": [
    "# CHALLENGE 1: Square Numbers and return their sum?"
   ]
  },
  {
   "cell_type": "code",
   "execution_count": 2,
   "id": "bd05a208",
   "metadata": {},
   "outputs": [
    {
     "name": "stdout",
     "output_type": "stream",
     "text": [
      "35\n"
     ]
    }
   ],
   "source": [
    "class point:\n",
    "    \n",
    "    \n",
    "    def __init__(self,x,y,z):\n",
    "        self.x=x\n",
    "        self.y=y\n",
    "        self.z=z\n",
    "        \n",
    "    def sqsum(self):\n",
    "        square_sum = (self.x**2)+(self.y**2)+(self.z**2)\n",
    "        return square_sum\n",
    "point = point(1,3,5)\n",
    "data = point.sqsum()\n",
    "print(data)"
   ]
  },
  {
   "cell_type": "markdown",
   "id": "a604a2d7",
   "metadata": {},
   "source": [
    "# CHALLENGE 2:Implement a calculator class?"
   ]
  },
  {
   "cell_type": "code",
   "execution_count": 3,
   "id": "1c0e5db3",
   "metadata": {},
   "outputs": [
    {
     "name": "stdout",
     "output_type": "stream",
     "text": [
      "104\n",
      "84\n",
      "940\n",
      "9.4\n"
     ]
    }
   ],
   "source": [
    "class Calculator:\n",
    "    def __init__(self,num1,num2):\n",
    "        self.num1 = num1\n",
    "        self.num2 = num2\n",
    "\n",
    "    def add(self):\n",
    "        return self.num1 + self.num2\n",
    "\n",
    "    def subtract(self):\n",
    "        return self.num1 - self.num2\n",
    "\n",
    "    def multiply(self):\n",
    "        return self.num1 * self.num2\n",
    "\n",
    "    def divide(self):\n",
    "        return self.num1 / self.num2\n",
    "\n",
    "obj = Calculator(94,10)\n",
    "data = obj.add()\n",
    "print(data)\n",
    "data = obj.subtract()\n",
    "print(data)\n",
    "data = obj.multiply()\n",
    "print(data)\n",
    "data = obj.divide()\n",
    "print(data)"
   ]
  },
  {
   "cell_type": "markdown",
   "id": "100d2f12",
   "metadata": {},
   "source": [
    "# CHALLENGE 3:Implement the complete student class?"
   ]
  },
  {
   "cell_type": "code",
   "execution_count": 4,
   "id": "f2affa76",
   "metadata": {},
   "outputs": [
    {
     "name": "stdout",
     "output_type": "stream",
     "text": [
      "Name of Student : Yashaswini\n",
      "Roll number of Student : 3\n"
     ]
    }
   ],
   "source": [
    "class Student:\n",
    "    def student(self,name,rollnumber):\n",
    "        self.__name = name                       # made name a private member\n",
    "        self.__rollnumber = rollnumber           # made rollnumber a private number\n",
    "\n",
    "    def setName(self,name):\n",
    "        self.__name = name\n",
    "    def getName(self):\n",
    "        return f\"Name of Student : {self.__name}\"\n",
    "\n",
    "\n",
    "    def setRollNumber(self,rollnumber):\n",
    "        self.__rollnumber = rollnumber\n",
    "    def getRollNumber(self):\n",
    "        return f\"Roll number of Student : {self.__rollnumber}\"\n",
    "\n",
    "student = Student()\n",
    "student.setName(\"Yashaswini\")\n",
    "data = student.getName()\n",
    "print(data)\n",
    "student.setRollNumber(3)\n",
    "data = student.getRollNumber()\n",
    "print(data)"
   ]
  },
  {
   "cell_type": "markdown",
   "id": "ed54276e",
   "metadata": {},
   "source": [
    "# CHALENGE 4:Implement the banking account?"
   ]
  },
  {
   "cell_type": "code",
   "execution_count": 7,
   "id": "a8e588dc",
   "metadata": {},
   "outputs": [
    {
     "name": "stdout",
     "output_type": "stream",
     "text": [
      "Title :  Ashish\n",
      "Account Balance:  5000\n",
      "Intrest Rate :  5\n",
      "Intrest Rate :  5\n"
     ]
    }
   ],
   "source": [
    "class Account:\n",
    "    def __init__(self,title = None,account_balance = 0):\n",
    "        self.title = title\n",
    "        self.acount_balance = account_balance\n",
    "    \n",
    "class Savings_account(Account):\n",
    "    def __init__(self,title = None,account_balance = 0 ,intrest_rate = 0):\n",
    "        super().__init__(title,account_balance)\n",
    "        self.intrest_rate = intrest_rate\n",
    "    def display(self):\n",
    "        super().display()\n",
    "        return self.intrest_rate\n",
    "\n",
    "\n",
    "saving =Savings_account(\"Yashaswini\",5000,5)\n",
    "saving =Savings_account(\"Ashish\",5000,5)\n",
    "print(\"Title : \",saving.title)\n",
    "print(\"Account Balance: \",saving.acount_balance)\n",
    "print(\"Intrest Rate : \",saving.intrest_rate)\n",
    "print(\"Intrest Rate : \",saving.intrest_rate)"
   ]
  },
  {
   "cell_type": "markdown",
   "id": "d5bdc33f",
   "metadata": {},
   "source": [
    "# CHALLENGE 5:Handling a Bank Account?"
   ]
  },
  {
   "cell_type": "code",
   "execution_count": 11,
   "id": "d0e47e82",
   "metadata": {},
   "outputs": [
    {
     "name": "stdout",
     "output_type": "stream",
     "text": [
      "Initial Balance :  1000\n",
      "Balance after withdrawal :  500\n",
      "After deposit :  2000\n",
      "Intrest on current balance :  100.0\n"
     ]
    }
   ],
   "source": [
    "class Account:\n",
    "    def __init__(self, title=None, balance=0):\n",
    "        self.title = title\n",
    "        self.balance = balance\n",
    "\n",
    "    def withdrawal(self, amount):\n",
    "        self.amount = amount\n",
    "        self.balance = self.balance - self.amount\n",
    "\n",
    "    def deposit(self, amount):\n",
    "        self.amount = amount\n",
    "        self.balance = self.balance + self.amount\n",
    "    def getBalance(self):\n",
    "        return self.balance\n",
    "\n",
    "class SavingsAccount(Account):\n",
    "    def __init__(self, title=None, balance=0, interestRate=0):\n",
    "            super().__init__(title, balance)\n",
    "            self.interestRate = interestRate\n",
    "\n",
    "    def interestAmount(self):\n",
    "        return (self.balance * self.interestRate / 100 ) \n",
    "\n",
    "\n",
    "obj = SavingsAccount(\"Yashaswini\",1000,5)\n",
    "print(\"Initial Balance : \",obj.getBalance())\n",
    "obj.withdrawal(500)\n",
    "print(\"Balance after withdrawal : \",obj.getBalance())\n",
    "obj.deposit(1500)\n",
    "print(\"After deposit : \",obj.getBalance())\n",
    "print(\"Intrest on current balance : \",obj.interestAmount())"
   ]
  },
  {
   "cell_type": "code",
   "execution_count": null,
   "id": "caf50cc2",
   "metadata": {},
   "outputs": [],
   "source": []
  }
 ],
 "metadata": {
  "kernelspec": {
   "display_name": "Python 3 (ipykernel)",
   "language": "python",
   "name": "python3"
  },
  "language_info": {
   "codemirror_mode": {
    "name": "ipython",
    "version": 3
   },
   "file_extension": ".py",
   "mimetype": "text/x-python",
   "name": "python",
   "nbconvert_exporter": "python",
   "pygments_lexer": "ipython3",
   "version": "3.11.0"
  }
 },
 "nbformat": 4,
 "nbformat_minor": 5
}
